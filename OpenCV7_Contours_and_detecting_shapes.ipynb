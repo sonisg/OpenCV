{
  "nbformat": 4,
  "nbformat_minor": 0,
  "metadata": {
    "colab": {
      "name": "OpenCV7-Contours and detecting shapes.ipynb",
      "provenance": [],
      "collapsed_sections": []
    },
    "kernelspec": {
      "name": "python3",
      "display_name": "Python 3"
    }
  },
  "cells": [
    {
      "cell_type": "code",
      "metadata": {
        "id": "YO66MtfzBUdV",
        "colab_type": "code",
        "colab": {}
      },
      "source": [
        "import cv2\n",
        "from google.colab.patches import cv2_imshow"
      ],
      "execution_count": 32,
      "outputs": []
    },
    {
      "cell_type": "code",
      "metadata": {
        "id": "qDdG6sG-DzyJ",
        "colab_type": "code",
        "colab": {
          "base_uri": "https://localhost:8080/",
          "height": 266
        },
        "outputId": "684c3631-05bf-419a-e3d9-baff8d82b65a"
      },
      "source": [
        "img=cv2.imread(\"opencv.png\")\n",
        "imgray=cv2.cvtColor(img,cv2.COLOR_BGR2GRAY)\n",
        "cv2_imshow(imgray)"
      ],
      "execution_count": 33,
      "outputs": [
        {
          "output_type": "display_data",
          "data": {
            "image/png": "[encoded data removed]",
            "text/plain": [
              "<PIL.Image.Image image mode=L size=202x249 at 0x7F6A5D68C048>"
            ]
          },
          "metadata": {
            "tags": []
          }
        }
      ]
    },
    {
      "cell_type": "markdown",
      "metadata": {
        "id": "2ezwfGiWMfeK",
        "colab_type": "text"
      },
      "source": [
        "Drawing contours"
      ]
    },
    {
      "cell_type": "code",
      "metadata": {
        "id": "NfXUw7zgEXdf",
        "colab_type": "code",
        "colab": {
          "base_uri": "https://localhost:8080/",
          "height": 35
        },
        "outputId": "837bde06-3f6b-4066-fdcd-73536da6b8d9"
      },
      "source": [
        "_,thr=cv2.threshold(imgray,127,255,0)\n",
        "contours,heirchry=cv2.findContours(thr,cv2.RETR_TREE,cv2.CHAIN_APPROX_NONE)\n",
        "print(str(len(contours)))"
      ],
      "execution_count": 34,
      "outputs": [
        {
          "output_type": "stream",
          "text": [
            "10\n"
          ],
          "name": "stdout"
        }
      ]
    },
    {
      "cell_type": "code",
      "metadata": {
        "id": "3vjhcuTnGCZw",
        "colab_type": "code",
        "colab": {
          "base_uri": "https://localhost:8080/",
          "height": 266
        },
        "outputId": "540e6ef4-5a5b-431c-e67b-a3dfb6cf5dd1"
      },
      "source": [
        "#Drawing contours\n",
        "cv2.drawContours(img,contours,-1,(0,255,0),3)\n",
        "cv2_imshow(img)"
      ],
      "execution_count": 35,
      "outputs": [
        {
          "output_type": "display_data",
          "data": {
            "image/png": "[encoded data removed]",
            "text/plain": [
              "<PIL.Image.Image image mode=RGB size=202x249 at 0x7F6A5D68C0B8>"
            ]
          },
          "metadata": {
            "tags": []
          }
        }
      ]
    },
    {
      "cell_type": "markdown",
      "metadata": {
        "id": "KJ9CHwWAMWmQ",
        "colab_type": "text"
      },
      "source": [
        "Drawing contours and detecting shapes"
      ]
    },
    {
      "cell_type": "code",
      "metadata": {
        "id": "NWD8hVFBGpvj",
        "colab_type": "code",
        "colab": {}
      },
      "source": [
        "img2=cv2.imread(\"shapess.png\")\n",
        "im2gray=cv2.cvtColor(img2,cv2.COLOR_BGR2GRAY)\n",
        "_,thres=cv2.threshold(im2gray,240,255,cv2.THRESH_BINARY)\n",
        "con,hei=cv2.findContours(thres,cv2.RETR_TREE,cv2.CHAIN_APPROX_NONE)"
      ],
      "execution_count": 36,
      "outputs": []
    },
    {
      "cell_type": "code",
      "metadata": {
        "id": "JCdNkzkvIRLN",
        "colab_type": "code",
        "colab": {
          "base_uri": "https://localhost:8080/",
          "height": 52
        },
        "outputId": "7fda461b-2cba-42c0-a8a0-21ce76e068e0"
      },
      "source": [
        "for c in con:\n",
        "  approx=cv2.approxPolyDP(c,0.01*cv2.arcLength(c,True),True)\n",
        "  cv2.drawContours(img2,[approx],0,(0,255,255),5)\n",
        "  x=approx.ravel()[0]\n",
        "  y=approx.ravel()[1]\n",
        "  if len(approx)==3:\n",
        "    cv2.putText(img2,\"Triangle\",(x,y),cv2.FONT_HERSHEY_COMPLEX,0.5,(0,0,255))\n",
        "  elif len(approx)==4:\n",
        "    x,y,w,h=cv2.boundingRect(approx)\n",
        "    aspectRatio=float(w)/h\n",
        "    print(aspectRatio)\n",
        "    if (aspectRatio>=0.95 and aspectRatio<=1.05):\n",
        "      cv2.putText(img2,\"Square\",(x,y),cv2.FONT_HERSHEY_COMPLEX,0.5,(0,0,0))\n",
        "    else:  \n",
        "      cv2.putText(img2,\"Rectangle\",(x,y),cv2.FONT_HERSHEY_COMPLEX,0.5,(0,0,255)) \n",
        "  elif len(approx)==5:\n",
        "    cv2.putText(img2,\"Pentagon\",(x,y),cv2.FONT_HERSHEY_COMPLEX,0.5,(0,0,0)) \n",
        "  elif len(approx)==6:\n",
        "    cv2.putText(img2,\"Hexagon\",(x,y),cv2.FONT_HERSHEY_COMPLEX,0.5,(0,255,0))  \n",
        "  elif len(approx)==10:\n",
        "    cv2.putText(img2,\"Star\",(x,y),cv2.FONT_HERSHEY_COMPLEX,0.5,(0,0,0))\n",
        "  else:\n",
        "    cv2.putText(img2,\"Circle\",(x,y),cv2.FONT_HERSHEY_COMPLEX,0.5,(0,0,0))\n",
        "    "
      ],
      "execution_count": 37,
      "outputs": [
        {
          "output_type": "stream",
          "text": [
            "1.4385026737967914\n",
            "1.265625\n"
          ],
          "name": "stdout"
        }
      ]
    },
    {
      "cell_type": "code",
      "metadata": {
        "id": "_E-gXS7GLund",
        "colab_type": "code",
        "colab": {
          "base_uri": "https://localhost:8080/",
          "height": 204
        },
        "outputId": "c54ddd87-734f-4bb6-c7ed-c76699119ac1"
      },
      "source": [
        "cv2_imshow(img2) "
      ],
      "execution_count": 38,
      "outputs": [
        {
          "output_type": "display_data",
          "data": {
            "image/png": "[encoded data removed]",
            "text/plain": [
              "<PIL.Image.Image image mode=RGB size=269x187 at 0x7F6A5D6815F8>"
            ]
          },
          "metadata": {
            "tags": []
          }
        }
      ]
    },
    {
      "cell_type": "markdown",
      "metadata": {
        "id": "8SzS-k7oMI37",
        "colab_type": "text"
      },
      "source": [
        ""
      ]
    }
  ]
}